{
 "cells": [
  {
   "cell_type": "markdown",
   "id": "7e11bf8e",
   "metadata": {},
   "source": [
    "estructura basica de python y funciones\n",
    "uso de sintaxis, operadores, condicional if-elif-else y bucles for-while"
   ]
  },
  {
   "cell_type": "code",
   "execution_count": 6,
   "id": "c69c2ebb",
   "metadata": {},
   "outputs": [
    {
     "name": "stdout",
     "output_type": "stream",
     "text": [
      "hola mundo\n",
      "hola\n",
      "mundo\n",
      "holamundo\n"
     ]
    }
   ],
   "source": [
    "#sintaxis y variables\n",
    "print(\"hola mundo\")\n",
    "#tenemos tipos de datos primitivios\n",
    "#datos numericos (1,2,3,4,5)\n",
    "#datos string (\"texto\", \"palabras continuas\") se usan comillas para definir\n",
    "#datos float (1,2  3,0  5,9) son flotantes y llevan decimal\n",
    "#datos decimal (0,1  0,99999) son decimales\n",
    "\n",
    "numero=1\n",
    "variable1= \"hola\"\n",
    "variable2= \"mundo\"\n",
    "print(variable1)\n",
    "print(variable2)\n",
    "print(variable1+variable2)"
   ]
  },
  {
   "cell_type": "code",
   "execution_count": 27,
   "id": "9a9f3bcc",
   "metadata": {},
   "outputs": [
    {
     "data": {
      "text/plain": [
       "1"
      ]
     },
     "execution_count": 27,
     "metadata": {},
     "output_type": "execute_result"
    }
   ],
   "source": [
    "#maximo y minimo de una lista\n",
    "min(40,20,10,1)"
   ]
  },
  {
   "cell_type": "code",
   "execution_count": 28,
   "id": "03d8834a",
   "metadata": {},
   "outputs": [
    {
     "data": {
      "text/plain": [
       "0.9"
      ]
     },
     "execution_count": 28,
     "metadata": {},
     "output_type": "execute_result"
    }
   ],
   "source": [
    "max(0.1, 0.2, 0.09, 0.9)"
   ]
  },
  {
   "cell_type": "code",
   "execution_count": 44,
   "id": "f0eb658a",
   "metadata": {},
   "outputs": [
    {
     "data": {
      "text/plain": [
       "4"
      ]
     },
     "execution_count": 44,
     "metadata": {},
     "output_type": "execute_result"
    }
   ],
   "source": [
    "round(3.555)"
   ]
  },
  {
   "cell_type": "code",
   "execution_count": 45,
   "id": "4209c31a",
   "metadata": {},
   "outputs": [
    {
     "data": {
      "text/plain": [
       "2"
      ]
     },
     "execution_count": 45,
     "metadata": {},
     "output_type": "execute_result"
    }
   ],
   "source": [
    "round(2.2)"
   ]
  },
  {
   "cell_type": "code",
   "execution_count": 3,
   "id": "26704182",
   "metadata": {},
   "outputs": [
    {
     "name": "stdout",
     "output_type": "stream",
     "text": [
      "30\n",
      "2.0\n",
      "2\n",
      "200\n",
      "10240000000000\n"
     ]
    }
   ],
   "source": [
    "#operadores\n",
    "x=10\n",
    "y=20\n",
    "sum =x+y\n",
    "res =y-x\n",
    "divresto =y/x\n",
    "divexacta =y//x\n",
    "mult =y*x\n",
    "potencia =y**x\n",
    "print(sum)\n",
    "print(div)\n",
    "print(divresto)\n",
    "print(mult)\n",
    "print(potencia)"
   ]
  },
  {
   "cell_type": "code",
   "execution_count": 7,
   "id": "ee620863",
   "metadata": {},
   "outputs": [
    {
     "name": "stdout",
     "output_type": "stream",
     "text": [
      "x no es mayor a 2\n"
     ]
    }
   ],
   "source": [
    "#condicional IF-ELIF-ELSE\n",
    "#nos sirve para ver si satisface\n",
    "#una condicion, sino avanza a la siguiente opcion\n",
    "\n",
    "x = 1 #declaramos una variable con valor 1\n",
    "\n",
    "if x > 2 : #le decimos q X es mayor a 2, si es asi se imprime esta opcion\n",
    "    print(\"x es mayor a 2\")\n",
    "else:      #si X no es mayor a 2 tomara esta opcion\n",
    "    print(\"x no es mayor a 2\")"
   ]
  },
  {
   "cell_type": "code",
   "execution_count": 15,
   "id": "23b4fa6c",
   "metadata": {},
   "outputs": [
    {
     "name": "stdout",
     "output_type": "stream",
     "text": [
      "aprobo con buena nota\n"
     ]
    }
   ],
   "source": [
    "nota = 6\n",
    "\n",
    "if nota < 2 :\n",
    "    print(\"su nota es deficiente\")\n",
    "elif nota > 5.9:\n",
    "    print(\"aprobo con buena nota\")\n",
    "elif nota >= 4:\n",
    "    print(\"aprobo apenas\")\n",
    "else: \n",
    "    print(\"no posee nota\")"
   ]
  },
  {
   "cell_type": "code",
   "execution_count": 20,
   "id": "741d0cd6",
   "metadata": {},
   "outputs": [
    {
     "data": {
      "text/plain": [
       "15"
      ]
     },
     "execution_count": 20,
     "metadata": {},
     "output_type": "execute_result"
    }
   ],
   "source": [
    "#funciones\n",
    "#para crear una funcion es fijo el DEF nombre_funcion(parametro)\n",
    "\n",
    "def suma(a):\n",
    "    return a + 10\n",
    "#aqui creamos la funcion suma, le decimos que los parametros siempre\n",
    "#se les sumara +10\n",
    "suma(5)"
   ]
  },
  {
   "cell_type": "code",
   "execution_count": 42,
   "id": "3f0c8477",
   "metadata": {},
   "outputs": [
    {
     "name": "stdout",
     "output_type": "stream",
     "text": [
      "el resultado es:\n"
     ]
    },
    {
     "data": {
      "text/plain": [
       "20"
      ]
     },
     "execution_count": 42,
     "metadata": {},
     "output_type": "execute_result"
    }
   ],
   "source": [
    "def suma(a):\n",
    "    resultado = a+10\n",
    "    print(\"el resultado es:\")\n",
    "    return resultado\n",
    "suma(10)"
   ]
  },
  {
   "cell_type": "code",
   "execution_count": 23,
   "id": "38b32755",
   "metadata": {},
   "outputs": [
    {
     "data": {
      "text/plain": [
       "(400.0, 450.0)"
      ]
     },
     "execution_count": 23,
     "metadata": {},
     "output_type": "execute_result"
    }
   ],
   "source": [
    "# una funcion dentro de una funcion\n",
    "def sueldo(horas_trabajadas):\n",
    "    return horas_trabajadas*10.000 \n",
    "    \n",
    "def bono_sueldo(horas_trabajadas):\n",
    "    return sueldo(horas_trabajadas)+50.000\n",
    "\n",
    "sueldo(40), bono_sueldo(40)"
   ]
  },
  {
   "cell_type": "code",
   "execution_count": 25,
   "id": "4c28c1db",
   "metadata": {},
   "outputs": [
    {
     "name": "stdout",
     "output_type": "stream",
     "text": [
      "no ahorro nada, no hay mesada\n"
     ]
    }
   ],
   "source": [
    "#funcion con condicional IF-ELSE\n",
    "def mesada(m):\n",
    "    if m >= 100 :\n",
    "        m= m+10\n",
    "        return m\n",
    "    else:\n",
    "        print(\"no ahorro nada, no hay mesada\")\n",
    "mesada(90)"
   ]
  },
  {
   "cell_type": "markdown",
   "id": "09a1206e",
   "metadata": {},
   "source": [
    "listas, tuplas y diccionarios"
   ]
  },
  {
   "cell_type": "code",
   "execution_count": 49,
   "id": "ee07b45d",
   "metadata": {},
   "outputs": [
    {
     "name": "stdout",
     "output_type": "stream",
     "text": [
      "martes\n"
     ]
    }
   ],
   "source": [
    "#listas\n",
    "dias=[\"lunes\",\"martes\",\"miercoles\",\"jueves\",\"viernes\",\"sabado\",\"domingo\"]\n",
    "print (dias[1])"
   ]
  },
  {
   "cell_type": "code",
   "execution_count": 52,
   "id": "af1ec04f",
   "metadata": {},
   "outputs": [
    {
     "name": "stdout",
     "output_type": "stream",
     "text": [
      "['lunes', 'martes', 'miercoles', 'jueves', 'viernes', 'sabado', 'fomingo']\n"
     ]
    }
   ],
   "source": [
    "dias[6]=\"fomingo\"\n",
    "print (dias)"
   ]
  },
  {
   "cell_type": "code",
   "execution_count": 53,
   "id": "31a215df",
   "metadata": {},
   "outputs": [
    {
     "name": "stdout",
     "output_type": "stream",
     "text": [
      "['lunes', 'miercoles', 'jueves', 'viernes', 'sabado', 'fomingo']\n"
     ]
    }
   ],
   "source": [
    "del dias[1]\n",
    "print (dias)"
   ]
  },
  {
   "cell_type": "code",
   "execution_count": 56,
   "id": "1d3b5eba",
   "metadata": {},
   "outputs": [
    {
     "name": "stdout",
     "output_type": "stream",
     "text": [
      "['audi', 'ferrari', 'bmw']\n",
      "['audi', 'ferrari', 'bmw', 'mercedez']\n",
      "['audi', 'ferrari', 'bmw', 'mercedez', 'koeninsegg', 'porshe']\n"
     ]
    }
   ],
   "source": [
    "#metodo append y extend, los metodos se usan despues del .\n",
    "#append es para 1 y extend es para varios\n",
    "autos=[\"audi\",\"ferrari\",\"bmw\"]\n",
    "print(autos)\n",
    "autos.append(\"mercedez\")\n",
    "print(autos)\n",
    "autos.extend([\"koeninsegg\",\"porshe\"])\n",
    "print(autos)"
   ]
  },
  {
   "cell_type": "code",
   "execution_count": 58,
   "id": "7230c290",
   "metadata": {},
   "outputs": [
    {
     "data": {
      "text/plain": [
       "2"
      ]
     },
     "execution_count": 58,
     "metadata": {},
     "output_type": "execute_result"
    }
   ],
   "source": [
    "#tomar datos necesarios entre rango ej 1:6 toma desde el 1 al 5\n",
    "#tambien veremos el indice en el que se encuentra\n",
    "autos[0:3]\n"
   ]
  },
  {
   "cell_type": "code",
   "execution_count": 59,
   "id": "5f34e010",
   "metadata": {},
   "outputs": [
    {
     "data": {
      "text/plain": [
       "2"
      ]
     },
     "execution_count": 59,
     "metadata": {},
     "output_type": "execute_result"
    }
   ],
   "source": [
    "autos.index(\"bmw\")"
   ]
  },
  {
   "cell_type": "code",
   "execution_count": 61,
   "id": "41b24aaf",
   "metadata": {},
   "outputs": [
    {
     "data": {
      "text/plain": [
       "[['audi', 'ferrari', 'bmw', 'mercedez', 'koeninsegg', 'porshe'],\n",
       " ['ninja', 'enduro', 'city']]"
      ]
     },
     "execution_count": 61,
     "metadata": {},
     "output_type": "execute_result"
    }
   ],
   "source": [
    "#juntaremos 2 listas\n",
    "motos=[\"ninja\", \"enduro\", \"city\"]\n",
    "lista_unida=[autos,motos]\n",
    "lista_unida"
   ]
  },
  {
   "cell_type": "code",
   "execution_count": 63,
   "id": "f83fd0f3",
   "metadata": {},
   "outputs": [
    {
     "data": {
      "text/plain": [
       "['audi', 'bmw', 'ferrari', 'koeninsegg', 'mercedez', 'porshe']"
      ]
     },
     "execution_count": 63,
     "metadata": {},
     "output_type": "execute_result"
    }
   ],
   "source": [
    "#ordenar una lista ya sea ascendente o descendente\n",
    "#cuando es alreves se usa el reverse=True\n",
    "autos.sort()\n",
    "autos"
   ]
  },
  {
   "cell_type": "code",
   "execution_count": 64,
   "id": "93b92735",
   "metadata": {},
   "outputs": [
    {
     "data": {
      "text/plain": [
       "['porshe', 'mercedez', 'koeninsegg', 'ferrari', 'bmw', 'audi']"
      ]
     },
     "execution_count": 64,
     "metadata": {},
     "output_type": "execute_result"
    }
   ],
   "source": [
    "autos.sort(reverse=True)\n",
    "autos"
   ]
  },
  {
   "cell_type": "markdown",
   "id": "79394ae6",
   "metadata": {},
   "source": [
    "TUPLAS\n",
    "estas no se pueden modificar, agregar o eliminar los elementos\n",
    "son estaticas y se usan con ()"
   ]
  },
  {
   "cell_type": "code",
   "execution_count": 66,
   "id": "36f19a8e",
   "metadata": {},
   "outputs": [
    {
     "name": "stdout",
     "output_type": "stream",
     "text": [
      "(1, 2, 3)\n",
      "(9, 8, 7)\n",
      "[(1, 2, 3), (9, 8, 7)]\n"
     ]
    }
   ],
   "source": [
    "x=(1,2,3)\n",
    "y=(9,8,7)\n",
    "print(x)\n",
    "print(y)\n",
    "#ahora creamos una lista compuesta\n",
    "lista = [x,y]\n",
    "print(lista)"
   ]
  },
  {
   "cell_type": "code",
   "execution_count": 70,
   "id": "41d61cd9",
   "metadata": {},
   "outputs": [
    {
     "name": "stdout",
     "output_type": "stream",
     "text": [
      "area y perimetro:\n"
     ]
    },
    {
     "data": {
      "text/plain": [
       "(25, 20)"
      ]
     },
     "execution_count": 70,
     "metadata": {},
     "output_type": "execute_result"
    }
   ],
   "source": [
    "#ahora crearemos una funcion que devuelva una TUPLA\n",
    "def area_cuadrado(x):\n",
    "    A = x**2\n",
    "    P = 4 * x\n",
    "    print(\"area y perimetro:\")\n",
    "    return A, P\n",
    "area_cuadrado(5)"
   ]
  },
  {
   "cell_type": "markdown",
   "id": "38ad266c",
   "metadata": {},
   "source": [
    "DICCIONARIOS\n",
    "estos tienen una llave y un valor, se pueden modificar segun su llave\n",
    "ademas estos son importantes ya que pueden mutar"
   ]
  },
  {
   "cell_type": "code",
   "execution_count": 74,
   "id": "41d4b300",
   "metadata": {},
   "outputs": [
    {
     "data": {
      "text/plain": [
       "'perro'"
      ]
     },
     "execution_count": 74,
     "metadata": {},
     "output_type": "execute_result"
    }
   ],
   "source": [
    "diccionario={'k1':\"gato\",'k2':\"perro\",'k3':\"pajaro\"}\n",
    "diccionario['k2']"
   ]
  },
  {
   "cell_type": "code",
   "execution_count": 75,
   "id": "3474c6b5",
   "metadata": {},
   "outputs": [
    {
     "name": "stdout",
     "output_type": "stream",
     "text": [
      "{'k1': 'gato', 'k2': 'perro', 'k3': 'pajaro', 'k4': 'peces'}\n"
     ]
    }
   ],
   "source": [
    "diccionario['k4']=\"peces\"\n",
    "print(diccionario)"
   ]
  },
  {
   "cell_type": "code",
   "execution_count": 76,
   "id": "b8f06cca",
   "metadata": {},
   "outputs": [
    {
     "name": "stdout",
     "output_type": "stream",
     "text": [
      "{'k1': 'gato', 'k2': 'perro', 'k3': 'pajaro', 'k4': 'monos'}\n"
     ]
    }
   ],
   "source": [
    "diccionario['k4']=\"monos\"\n",
    "print(diccionario)"
   ]
  },
  {
   "cell_type": "code",
   "execution_count": null,
   "id": "c00e063d",
   "metadata": {},
   "outputs": [],
   "source": []
  }
 ],
 "metadata": {
  "kernelspec": {
   "display_name": "Python 3 (ipykernel)",
   "language": "python",
   "name": "python3"
  },
  "language_info": {
   "codemirror_mode": {
    "name": "ipython",
    "version": 3
   },
   "file_extension": ".py",
   "mimetype": "text/x-python",
   "name": "python",
   "nbconvert_exporter": "python",
   "pygments_lexer": "ipython3",
   "version": "3.9.12"
  }
 },
 "nbformat": 4,
 "nbformat_minor": 5
}
