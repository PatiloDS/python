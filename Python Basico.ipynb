{
 "cells": [
  {
   "cell_type": "markdown",
   "id": "bc86a50e",
   "metadata": {},
   "source": [
    "estructura basica de python y funciones\n",
    "uso de sintaxis, operadores, condicional if-elif-else y bucles for-while"
   ]
  },
  {
   "cell_type": "code",
   "execution_count": 6,
   "id": "a23ac5c9",
   "metadata": {},
   "outputs": [
    {
     "name": "stdout",
     "output_type": "stream",
     "text": [
      "hola mundo\n",
      "hola\n",
      "mundo\n",
      "holamundo\n"
     ]
    }
   ],
   "source": [
    "#sintaxis y variables\n",
    "print(\"hola mundo\")\n",
    "#tenemos tipos de datos primitivios\n",
    "#datos numericos (1,2,3,4,5)\n",
    "#datos string (\"texto\", \"palabras continuas\") se usan comillas para definir\n",
    "#datos float (1,2  3,0  5,9) son flotantes y llevan decimal\n",
    "#datos decimal (0,1  0,99999) son decimales\n",
    "\n",
    "numero=1\n",
    "variable1= \"hola\"\n",
    "variable2= \"mundo\"\n",
    "print(variable1)\n",
    "print(variable2)\n",
    "print(variable1+variable2)"
   ]
  },
  {
   "cell_type": "code",
   "execution_count": 27,
   "id": "def28113",
   "metadata": {},
   "outputs": [
    {
     "data": {
      "text/plain": [
       "1"
      ]
     },
     "execution_count": 27,
     "metadata": {},
     "output_type": "execute_result"
    }
   ],
   "source": [
    "#maximo y minimo de una lista\n",
    "min(40,20,10,1)"
   ]
  },
  {
   "cell_type": "code",
   "execution_count": 28,
   "id": "1b695760",
   "metadata": {},
   "outputs": [
    {
     "data": {
      "text/plain": [
       "0.9"
      ]
     },
     "execution_count": 28,
     "metadata": {},
     "output_type": "execute_result"
    }
   ],
   "source": [
    "max(0.1, 0.2, 0.09, 0.9)"
   ]
  },
  {
   "cell_type": "code",
   "execution_count": 44,
   "id": "c0cf082c",
   "metadata": {},
   "outputs": [
    {
     "data": {
      "text/plain": [
       "4"
      ]
     },
     "execution_count": 44,
     "metadata": {},
     "output_type": "execute_result"
    }
   ],
   "source": [
    "round(3.555)"
   ]
  },
  {
   "cell_type": "code",
   "execution_count": 45,
   "id": "4e80f751",
   "metadata": {},
   "outputs": [
    {
     "data": {
      "text/plain": [
       "2"
      ]
     },
     "execution_count": 45,
     "metadata": {},
     "output_type": "execute_result"
    }
   ],
   "source": [
    "round(2.2)"
   ]
  },
  {
   "cell_type": "code",
   "execution_count": 3,
   "id": "1c748f2b",
   "metadata": {},
   "outputs": [
    {
     "name": "stdout",
     "output_type": "stream",
     "text": [
      "30\n",
      "2.0\n",
      "2\n",
      "200\n",
      "10240000000000\n"
     ]
    }
   ],
   "source": [
    "#operadores\n",
    "x=10\n",
    "y=20\n",
    "sum =x+y\n",
    "res =y-x\n",
    "divresto =y/x\n",
    "divexacta =y//x\n",
    "mult =y*x\n",
    "potencia =y**x\n",
    "print(sum)\n",
    "print(div)\n",
    "print(divresto)\n",
    "print(mult)\n",
    "print(potencia)"
   ]
  },
  {
   "cell_type": "code",
   "execution_count": 7,
   "id": "befd54c8",
   "metadata": {},
   "outputs": [
    {
     "name": "stdout",
     "output_type": "stream",
     "text": [
      "x no es mayor a 2\n"
     ]
    }
   ],
   "source": [
    "#condicional IF-ELIF-ELSE\n",
    "#nos sirve para ver si satisface\n",
    "#una condicion, sino avanza a la siguiente opcion\n",
    "\n",
    "x = 1 #declaramos una variable con valor 1\n",
    "\n",
    "if x > 2 : #le decimos q X es mayor a 2, si es asi se imprime esta opcion\n",
    "    print(\"x es mayor a 2\")\n",
    "else:      #si X no es mayor a 2 tomara esta opcion\n",
    "    print(\"x no es mayor a 2\")"
   ]
  },
  {
   "cell_type": "code",
   "execution_count": 15,
   "id": "971529a4",
   "metadata": {},
   "outputs": [
    {
     "name": "stdout",
     "output_type": "stream",
     "text": [
      "aprobo con buena nota\n"
     ]
    }
   ],
   "source": [
    "nota = 6\n",
    "\n",
    "if nota < 2 :\n",
    "    print(\"su nota es deficiente\")\n",
    "elif nota > 5.9:\n",
    "    print(\"aprobo con buena nota\")\n",
    "elif nota >= 4:\n",
    "    print(\"aprobo apenas\")\n",
    "else: \n",
    "    print(\"no posee nota\")"
   ]
  },
  {
   "cell_type": "code",
   "execution_count": 20,
   "id": "9366edb8",
   "metadata": {},
   "outputs": [
    {
     "data": {
      "text/plain": [
       "15"
      ]
     },
     "execution_count": 20,
     "metadata": {},
     "output_type": "execute_result"
    }
   ],
   "source": [
    "#funciones\n",
    "#para crear una funcion es fijo el DEF nombre_funcion(parametro)\n",
    "\n",
    "def suma(a):\n",
    "    return a + 10\n",
    "#aqui creamos la funcion suma, le decimos que los parametros siempre\n",
    "#se les sumara +10\n",
    "suma(5)"
   ]
  },
  {
   "cell_type": "code",
   "execution_count": 42,
   "id": "d9589b27",
   "metadata": {},
   "outputs": [
    {
     "name": "stdout",
     "output_type": "stream",
     "text": [
      "el resultado es:\n"
     ]
    },
    {
     "data": {
      "text/plain": [
       "20"
      ]
     },
     "execution_count": 42,
     "metadata": {},
     "output_type": "execute_result"
    }
   ],
   "source": [
    "def suma(a):\n",
    "    resultado = a+10\n",
    "    print(\"el resultado es:\")\n",
    "    return resultado\n",
    "suma(10)"
   ]
  },
  {
   "cell_type": "code",
   "execution_count": 23,
   "id": "9e3a4171",
   "metadata": {},
   "outputs": [
    {
     "data": {
      "text/plain": [
       "(400.0, 450.0)"
      ]
     },
     "execution_count": 23,
     "metadata": {},
     "output_type": "execute_result"
    }
   ],
   "source": [
    "# una funcion dentro de una funcion\n",
    "def sueldo(horas_trabajadas):\n",
    "    return horas_trabajadas*10.000 \n",
    "    \n",
    "def bono_sueldo(horas_trabajadas):\n",
    "    return sueldo(horas_trabajadas)+50.000\n",
    "\n",
    "sueldo(40), bono_sueldo(40)"
   ]
  },
  {
   "cell_type": "code",
   "execution_count": 25,
   "id": "d032b576",
   "metadata": {},
   "outputs": [
    {
     "name": "stdout",
     "output_type": "stream",
     "text": [
      "no ahorro nada, no hay mesada\n"
     ]
    }
   ],
   "source": [
    "#funcion con condicional IF-ELSE\n",
    "def mesada(m):\n",
    "    if m >= 100 :\n",
    "        m= m+10\n",
    "        return m\n",
    "    else:\n",
    "        print(\"no ahorro nada, no hay mesada\")\n",
    "mesada(90)"
   ]
  },
  {
   "cell_type": "markdown",
   "id": "0a15500b",
   "metadata": {},
   "source": [
    "listas, tuplas y diccionarios"
   ]
  },
  {
   "cell_type": "code",
   "execution_count": 49,
   "id": "f3b49205",
   "metadata": {},
   "outputs": [
    {
     "name": "stdout",
     "output_type": "stream",
     "text": [
      "martes\n"
     ]
    }
   ],
   "source": [
    "#listas\n",
    "dias=[\"lunes\",\"martes\",\"miercoles\",\"jueves\",\"viernes\",\"sabado\",\"domingo\"]\n",
    "print (dias[1])"
   ]
  },
  {
   "cell_type": "code",
   "execution_count": 52,
   "id": "0fe11a8c",
   "metadata": {},
   "outputs": [
    {
     "name": "stdout",
     "output_type": "stream",
     "text": [
      "['lunes', 'martes', 'miercoles', 'jueves', 'viernes', 'sabado', 'fomingo']\n"
     ]
    }
   ],
   "source": [
    "dias[6]=\"fomingo\"\n",
    "print (dias)"
   ]
  },
  {
   "cell_type": "code",
   "execution_count": 53,
   "id": "d7cbd2e4",
   "metadata": {},
   "outputs": [
    {
     "name": "stdout",
     "output_type": "stream",
     "text": [
      "['lunes', 'miercoles', 'jueves', 'viernes', 'sabado', 'fomingo']\n"
     ]
    }
   ],
   "source": [
    "del dias[1]\n",
    "print (dias)"
   ]
  },
  {
   "cell_type": "code",
   "execution_count": 56,
   "id": "43357331",
   "metadata": {},
   "outputs": [
    {
     "name": "stdout",
     "output_type": "stream",
     "text": [
      "['audi', 'ferrari', 'bmw']\n",
      "['audi', 'ferrari', 'bmw', 'mercedez']\n",
      "['audi', 'ferrari', 'bmw', 'mercedez', 'koeninsegg', 'porshe']\n"
     ]
    }
   ],
   "source": [
    "#metodo append y extend, los metodos se usan despues del .\n",
    "#append es para 1 y extend es para varios\n",
    "autos=[\"audi\",\"ferrari\",\"bmw\"]\n",
    "print(autos)\n",
    "autos.append(\"mercedez\")\n",
    "print(autos)\n",
    "autos.extend([\"koeninsegg\",\"porshe\"])\n",
    "print(autos)"
   ]
  },
  {
   "cell_type": "code",
   "execution_count": 81,
   "id": "94e14969",
   "metadata": {},
   "outputs": [
    {
     "name": "stdout",
     "output_type": "stream",
     "text": [
      "['a', 'b', 'c', 'd', 'e', 'f']\n"
     ]
    }
   ],
   "source": [
    "#insertar datos en una posicion especifica\n",
    "#indicamos la posicion y el dato (posicion, dato)\n",
    "\n",
    "letras=[\"a\",\"b\",\"c\",\"d\",\"f\"]\n",
    "letras.insert(4,\"e\")\n",
    "print(letras)"
   ]
  },
  {
   "cell_type": "code",
   "execution_count": 58,
   "id": "89f10c67",
   "metadata": {},
   "outputs": [
    {
     "data": {
      "text/plain": [
       "2"
      ]
     },
     "execution_count": 58,
     "metadata": {},
     "output_type": "execute_result"
    }
   ],
   "source": [
    "#tomar datos necesarios entre rango ej 1:6 toma desde el 1 al 5\n",
    "#tambien veremos el indice en el que se encuentra\n",
    "autos[0:3]\n"
   ]
  },
  {
   "cell_type": "code",
   "execution_count": 59,
   "id": "c53f028f",
   "metadata": {},
   "outputs": [
    {
     "data": {
      "text/plain": [
       "2"
      ]
     },
     "execution_count": 59,
     "metadata": {},
     "output_type": "execute_result"
    }
   ],
   "source": [
    "autos.index(\"bmw\")"
   ]
  },
  {
   "cell_type": "code",
   "execution_count": 61,
   "id": "e3b0991c",
   "metadata": {},
   "outputs": [
    {
     "data": {
      "text/plain": [
       "[['audi', 'ferrari', 'bmw', 'mercedez', 'koeninsegg', 'porshe'],\n",
       " ['ninja', 'enduro', 'city']]"
      ]
     },
     "execution_count": 61,
     "metadata": {},
     "output_type": "execute_result"
    }
   ],
   "source": [
    "#juntaremos 2 listas\n",
    "motos=[\"ninja\", \"enduro\", \"city\"]\n",
    "lista_unida=[autos,motos]\n",
    "lista_unida"
   ]
  },
  {
   "cell_type": "code",
   "execution_count": 63,
   "id": "5d297f46",
   "metadata": {},
   "outputs": [
    {
     "data": {
      "text/plain": [
       "['audi', 'bmw', 'ferrari', 'koeninsegg', 'mercedez', 'porshe']"
      ]
     },
     "execution_count": 63,
     "metadata": {},
     "output_type": "execute_result"
    }
   ],
   "source": [
    "#ordenar una lista ya sea ascendente o descendente\n",
    "#cuando es alreves se usa el reverse=True\n",
    "autos.sort()\n",
    "autos"
   ]
  },
  {
   "cell_type": "code",
   "execution_count": 64,
   "id": "457f7514",
   "metadata": {},
   "outputs": [
    {
     "data": {
      "text/plain": [
       "['porshe', 'mercedez', 'koeninsegg', 'ferrari', 'bmw', 'audi']"
      ]
     },
     "execution_count": 64,
     "metadata": {},
     "output_type": "execute_result"
    }
   ],
   "source": [
    "autos.sort(reverse=True)\n",
    "autos"
   ]
  },
  {
   "cell_type": "markdown",
   "id": "746f9771",
   "metadata": {},
   "source": [
    "TUPLAS\n",
    "estas no se pueden modificar, agregar o eliminar los elementos\n",
    "son estaticas y se usan con ()"
   ]
  },
  {
   "cell_type": "code",
   "execution_count": 66,
   "id": "1861c823",
   "metadata": {},
   "outputs": [
    {
     "name": "stdout",
     "output_type": "stream",
     "text": [
      "(1, 2, 3)\n",
      "(9, 8, 7)\n",
      "[(1, 2, 3), (9, 8, 7)]\n"
     ]
    }
   ],
   "source": [
    "x=(1,2,3)\n",
    "y=(9,8,7)\n",
    "print(x)\n",
    "print(y)\n",
    "#ahora creamos una lista compuesta\n",
    "lista = [x,y]\n",
    "print(lista)"
   ]
  },
  {
   "cell_type": "code",
   "execution_count": 70,
   "id": "5a3543ac",
   "metadata": {},
   "outputs": [
    {
     "name": "stdout",
     "output_type": "stream",
     "text": [
      "area y perimetro:\n"
     ]
    },
    {
     "data": {
      "text/plain": [
       "(25, 20)"
      ]
     },
     "execution_count": 70,
     "metadata": {},
     "output_type": "execute_result"
    }
   ],
   "source": [
    "#ahora crearemos una funcion que devuelva una TUPLA\n",
    "def area_cuadrado(x):\n",
    "    A = x**2\n",
    "    P = 4 * x\n",
    "    print(\"area y perimetro:\")\n",
    "    return A, P\n",
    "area_cuadrado(5)"
   ]
  },
  {
   "cell_type": "markdown",
   "id": "8b564206",
   "metadata": {},
   "source": [
    "DICCIONARIOS\n",
    "estos tienen una llave y un valor, se pueden modificar segun su llave\n",
    "ademas estos son importantes ya que pueden mutar"
   ]
  },
  {
   "cell_type": "code",
   "execution_count": 74,
   "id": "c7a85409",
   "metadata": {},
   "outputs": [
    {
     "data": {
      "text/plain": [
       "'perro'"
      ]
     },
     "execution_count": 74,
     "metadata": {},
     "output_type": "execute_result"
    }
   ],
   "source": [
    "diccionario={'k1':\"gato\",'k2':\"perro\",'k3':\"pajaro\"}\n",
    "diccionario['k2']"
   ]
  },
  {
   "cell_type": "code",
   "execution_count": 75,
   "id": "59caef7b",
   "metadata": {},
   "outputs": [
    {
     "name": "stdout",
     "output_type": "stream",
     "text": [
      "{'k1': 'gato', 'k2': 'perro', 'k3': 'pajaro', 'k4': 'peces'}\n"
     ]
    }
   ],
   "source": [
    "diccionario['k4']=\"peces\"\n",
    "print(diccionario)"
   ]
  },
  {
   "cell_type": "code",
   "execution_count": 76,
   "id": "23bce79c",
   "metadata": {},
   "outputs": [
    {
     "name": "stdout",
     "output_type": "stream",
     "text": [
      "{'k1': 'gato', 'k2': 'perro', 'k3': 'pajaro', 'k4': 'monos'}\n"
     ]
    }
   ],
   "source": [
    "diccionario['k4']=\"monos\"\n",
    "print(diccionario)"
   ]
  },
  {
   "cell_type": "code",
   "execution_count": 82,
   "id": "00c12652",
   "metadata": {},
   "outputs": [
    {
     "name": "stdout",
     "output_type": "stream",
     "text": [
      "{'k1': 'gato', 'k2': 'perro', 'k4': 'monos'}\n"
     ]
    }
   ],
   "source": [
    "#eliminaremos una llave del diccionario\n",
    "del diccionario['k3']\n",
    "print(diccionario)"
   ]
  },
  {
   "cell_type": "code",
   "execution_count": 83,
   "id": "b8ac6486",
   "metadata": {},
   "outputs": [
    {
     "name": "stdout",
     "output_type": "stream",
     "text": [
      "{'nombre': 'Patricio', 'edad': '28', 'profesion': 'ingeniero', 'nacimiento': 'santiago', 'hijos': '1'}\n"
     ]
    }
   ],
   "source": [
    "#unir diccionarios con metodo update\n",
    "diccionario1={'nombre':'Patricio', 'edad':'28', 'profesion':'ingeniero'}\n",
    "diccionario2={'nacimiento':'santiago','hijos':'1'}\n",
    "diccionario1.update(diccionario2)\n",
    "print(diccionario1)"
   ]
  },
  {
   "cell_type": "code",
   "execution_count": 85,
   "id": "986ed057",
   "metadata": {},
   "outputs": [
    {
     "data": {
      "text/plain": [
       "dict_items([('nombre', 'Patricio'), ('edad', '28'), ('profesion', 'ingeniero'), ('nacimiento', 'santiago'), ('hijos', '1')])"
      ]
     },
     "execution_count": 85,
     "metadata": {},
     "output_type": "execute_result"
    }
   ],
   "source": [
    "#exploracion de datos de un diccionario\n",
    "#podemos exploraros por sus llaves, valores o items\n",
    "diccionario1.keys()\n",
    "diccionario1.values()\n",
    "diccionario1.items()"
   ]
  },
  {
   "cell_type": "code",
   "execution_count": null,
   "id": "060f7b2a",
   "metadata": {},
   "outputs": [],
   "source": []
  }
 ],
 "metadata": {
  "kernelspec": {
   "display_name": "Python 3 (ipykernel)",
   "language": "python",
   "name": "python3"
  },
  "language_info": {
   "codemirror_mode": {
    "name": "ipython",
    "version": 3
   },
   "file_extension": ".py",
   "mimetype": "text/x-python",
   "name": "python",
   "nbconvert_exporter": "python",
   "pygments_lexer": "ipython3",
   "version": "3.9.12"
  }
 },
 "nbformat": 4,
 "nbformat_minor": 5
}
